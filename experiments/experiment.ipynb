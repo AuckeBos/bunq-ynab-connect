{
 "cells": [
  {
   "cell_type": "code",
   "execution_count": null,
   "metadata": {},
   "outputs": [],
   "source": [
    "from dotenv import find_dotenv, load_dotenv\n",
    "from kink import di\n",
    "from bunq_ynab_connect.data.storage.abstract_storage import AbstractStorage\n",
    "from bunq_ynab_connect.models.matched_transaction import MatchedTransaction\n",
    "import numpy as np\n",
    "\n",
    "import pandas as pd\n",
    "from sklearn_pandas import DataFrameMapper\n",
    "import os\n",
    "\n",
    "load_dotenv(find_dotenv())"
   ]
  },
  {
   "cell_type": "code",
   "execution_count": 21,
   "metadata": {},
   "outputs": [],
   "source": [
    "budget_id = os.environ[\"BUDGET_ID_FOR_TESTING\"]\n",
    "storage = di[AbstractStorage]\n",
    "label_column = \"category_id\""
   ]
  },
  {
   "cell_type": "code",
   "execution_count": 14,
   "metadata": {},
   "outputs": [],
   "source": [
    "from sklearn.base import TransformerMixin\n",
    "from sklearn.pipeline import FeatureUnion\n",
    "from bunq_ynab_connect.classification.budget_category_encoder import (\n",
    "    BudgetCategoryEncoder,\n",
    ")\n",
    "from feature_engine.datetime import DatetimeFeatures\n",
    "\n",
    "\n",
    "def get_transactions() -> list[MatchedTransaction]:\n",
    "    transactions_raw = storage.find(\n",
    "        \"matched_transactions\",\n",
    "        [(\"ynab_transaction.budget_id\", \"eq\", budget_id)],\n",
    "    )\n",
    "    transactions = storage.rows_to_entities(transactions_raw, MatchedTransaction)\n",
    "    return transactions\n",
    "\n",
    "\n",
    "def transactions_to_xy(\n",
    "    transactions: list[MatchedTransaction],\n",
    ") -> tuple[pd.DataFrame, pd.DataFrame]:\n",
    "    X = pd.DataFrame([t.bunq_payment.model_dump() for t in transactions])\n",
    "    y = pd.DataFrame([t.ynab_transaction.model_dump() for t in transactions])\n",
    "    return X, y\n",
    "\n",
    "\n",
    "def encode_y(y: pd.DataFrame) -> np.ndarray:\n",
    "    mapper = DataFrameMapper(\n",
    "        [([\"category_id\", \"category_name\"], BudgetCategoryEncoder())],\n",
    "        input_df=True,\n",
    "        df_out=False,\n",
    "    )\n",
    "    transformed: np.ndarray = mapper.fit_transform(y)\n",
    "    return transformed\n",
    "\n",
    "def date_extractor() -> TransformerMixin:\n",
    "    return DataFrameMapper(\n",
    "        [\n",
    "            (\n",
    "                [\"created\"],\n",
    "                DatetimeFeatures(\n",
    "                    variables=[\"created\"]\n",
    "                ),\n",
    "                {\"alias\": \"date_feature\"},\n",
    "            ),\n",
    "        ],\n",
    "        input_df=True,\n",
    "        df_out=True,\n",
    "    )\n",
    "\n",
    "\n",
    "def pipeline(X: pd.DataFrame) -> np.ndarray:\n",
    "    features = FeatureUnion([\n",
    "        (\"date\", date_extractor()),\n",
    "    ]).fit_transform(X)\n",
    "    return features\n",
    "\n",
    "\n",
    "transactions = get_transactions()\n",
    "X, y = transactions_to_xy(transactions)\n",
    "y_encoded = encode_y(y)\n",
    "features = pipeline(X)"
   ]
  }
 ],
 "metadata": {
  "kernelspec": {
   "display_name": "Python 3 (ipykernel)",
   "language": "python",
   "name": "python3"
  },
  "language_info": {
   "codemirror_mode": {
    "name": "ipython",
    "version": 3
   },
   "file_extension": ".py",
   "mimetype": "text/x-python",
   "name": "python",
   "nbconvert_exporter": "python",
   "pygments_lexer": "ipython3",
   "version": "3.11.4"
  }
 },
 "nbformat": 4,
 "nbformat_minor": 2
}
